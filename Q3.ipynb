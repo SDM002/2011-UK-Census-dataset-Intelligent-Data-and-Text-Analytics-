{
 "cells": [
  {
   "cell_type": "code",
   "execution_count": 1,
   "id": "82e6684c",
   "metadata": {},
   "outputs": [],
   "source": [
    "import pandas as pd\n",
    "import numpy as np\n",
    "import seaborn as sns\n",
    "import matplotlib.pyplot as plt\n",
    "from sklearn.preprocessing import LabelEncoder\n",
    "\n",
    "df = pd.read_csv('Census.csv')"
   ]
  },
  {
   "cell_type": "code",
   "execution_count": 2,
   "id": "d8a3b7f9",
   "metadata": {},
   "outputs": [],
   "source": [
    "#filling missing(NaN) values in the DataFrame df with the value 0.\n",
    "df = df.fillna(0)"
   ]
  },
  {
   "cell_type": "code",
   "execution_count": 3,
   "id": "9f70edd7",
   "metadata": {},
   "outputs": [],
   "source": [
    "# Define categorical columns\n",
    "categorical_columns = [\"Region\", \"Residence Type\", \"Family Composition\", \"Population Base\", \"Age\", \"Sex\", \n",
    "                     \"Marital Status\", \"Country of Birth\", \"Student\", \"Health\", \"Ethnic Group\", \"Religion\", \n",
    "                     \"Economic Activity\", \"Occupation\", \"Industry\", \"Hours worked per week\", \"Approximated Social Grade\"]\n",
    "\n",
    "# Initialize LabelEncoder\n",
    "LE = LabelEncoder()\n",
    "\n",
    "# Apply label encoding to each categorical column\n",
    "df[categorical_columns] = df[categorical_columns].apply(lambda col: LE.fit_transform(col))"
   ]
  },
  {
   "cell_type": "code",
   "execution_count": 4,
   "id": "5fee1889",
   "metadata": {},
   "outputs": [],
   "source": [
    "df.drop(columns=['Hours worked per week'], inplace=True)"
   ]
  },
  {
   "cell_type": "code",
   "execution_count": 5,
   "id": "22cc691a",
   "metadata": {},
   "outputs": [
    {
     "name": "stdout",
     "output_type": "stream",
     "text": [
      "Linear Regression Results:\n",
      "RMSE: 13.67\n",
      "R-squared (R2): 0.53\n",
      "Mean Absolute Error: 11.01\n",
      "\n",
      "Random Forest Regression Results:\n",
      "RMSE: 8.18\n",
      "R-squared (R2): 0.83\n",
      "Mean Absolute Error: 4.39\n",
      "\n",
      "Random Forest Regression is best when compared to other.\n"
     ]
    }
   ],
   "source": [
    "from sklearn.model_selection import train_test_split\n",
    "from sklearn.linear_model import LinearRegression\n",
    "from sklearn.ensemble import RandomForestRegressor\n",
    "from sklearn.metrics import mean_squared_error, r2_score, mean_absolute_error\n",
    "\n",
    "# Assuming df is DataFrame\n",
    "\n",
    "# Split the dataset into features (X) and the target variable (y)\n",
    "X = df.drop([\"No of hours\"], axis=1)\n",
    "y = df[\"No of hours\"]\n",
    "\n",
    "# Split the dataset into training and testing sets\n",
    "X_train, X_test, y_train, y_test = train_test_split(X, y, test_size=0.3, random_state=42)\n",
    "\n",
    "# Algorithm 1: Linear Regression\n",
    "linear_regression = LinearRegression()\n",
    "linear_regression.fit(X_train, y_train)\n",
    "\n",
    "# Algorithm 2: Random Forest Regression\n",
    "random_forest_regressor = RandomForestRegressor(n_estimators=100, random_state=42)\n",
    "random_forest_regressor.fit(X_train, y_train)\n",
    "\n",
    "# Evaluate both models\n",
    "linear_regression_predictions = linear_regression.predict(X_test)\n",
    "random_forest_predictions = random_forest_regressor.predict(X_test)\n",
    "\n",
    "# Calculate metrics for linear regression\n",
    "linear_regression_rmse = np.sqrt(mean_squared_error(y_test, linear_regression_predictions))\n",
    "linear_regression_r2 = r2_score(y_test, linear_regression_predictions)\n",
    "linear_regression_mae = mean_absolute_error(y_test, linear_regression_predictions)\n",
    "\n",
    "# Calculate metrics for random forest regression\n",
    "random_forest_rmse = np.sqrt(mean_squared_error(y_test, random_forest_predictions))\n",
    "random_forest_r2 = r2_score(y_test, random_forest_predictions)\n",
    "random_forest_mae = mean_absolute_error(y_test, random_forest_predictions)\n",
    "\n",
    "# Compare and discuss the results\n",
    "print(\"Linear Regression Results:\")\n",
    "print(f\"RMSE: {linear_regression_rmse:.2f}\")\n",
    "print(f\"R-squared (R2): {linear_regression_r2:.2f}\")\n",
    "print(f\"Mean Absolute Error: {linear_regression_mae:.2f}\")\n",
    "print()\n",
    "\n",
    "print(\"Random Forest Regression Results:\")\n",
    "print(f\"RMSE: {random_forest_rmse:.2f}\")\n",
    "print(f\"R-squared (R2): {random_forest_r2:.2f}\")\n",
    "print(f\"Mean Absolute Error: {random_forest_mae:.2f}\")\n",
    "print()\n",
    "\n",
    "# Conclusion and discussion\n",
    "if linear_regression_r2 > random_forest_r2:\n",
    "    print(\"Linear Regression is best when compared to other.\")\n",
    "else:\n",
    "    print(\"Random Forest Regression is best when compared to other.\")\n",
    "\n",
    "    "
   ]
  },
  {
   "cell_type": "code",
   "execution_count": null,
   "id": "27413272",
   "metadata": {},
   "outputs": [],
   "source": []
  }
 ],
 "metadata": {
  "kernelspec": {
   "display_name": "Python 3 (ipykernel)",
   "language": "python",
   "name": "python3"
  },
  "language_info": {
   "codemirror_mode": {
    "name": "ipython",
    "version": 3
   },
   "file_extension": ".py",
   "mimetype": "text/x-python",
   "name": "python",
   "nbconvert_exporter": "python",
   "pygments_lexer": "ipython3",
   "version": "3.11.4"
  }
 },
 "nbformat": 4,
 "nbformat_minor": 5
}
